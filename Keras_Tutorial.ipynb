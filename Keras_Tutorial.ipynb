{
  "nbformat": 4,
  "nbformat_minor": 0,
  "metadata": {
    "colab": {
      "name": "Keras-Tutorial.ipynb",
      "provenance": [],
      "collapsed_sections": []
    },
    "kernelspec": {
      "name": "python3",
      "display_name": "Python 3"
    },
    "accelerator": "GPU"
  },
  "cells": [
    {
      "cell_type": "markdown",
      "source": [
        "**1. LOADING DATA** \n",
        "\n"
      ],
      "metadata": {
        "id": "93jVkR0zcO_y"
      }
    },
    {
      "cell_type": "code",
      "metadata": {
        "id": "fIoJk_IwtHPL",
        "outputId": "24c20340-0921-4b0a-f727-e59c77957a76",
        "colab": {
          "base_uri": "https://localhost:8080/",
          "height": 206
        }
      },
      "source": [
        "# load libraries\n",
        "from pandas import Series, DataFrame\n",
        "import pandas as pd\n",
        "import urllib.request\n",
        "\n",
        "# read poker training and test data from the url and save the file to current directory\n",
        "urllib.request.urlretrieve(\"http://archive.ics.uci.edu/ml/machine-learning-databases/poker/poker-hand-training-true.data\", \"poker_train.csv\")\n",
        "urllib.request.urlretrieve(\"http://archive.ics.uci.edu/ml/machine-learning-databases/poker/poker-hand-testing.data\", \"poker_test.csv\")\n",
        "\n",
        "# read the data in and add column names\n",
        "poker_train = pd.read_csv(\"poker_train.csv\", header=None, names=['S1', 'C1', 'S2', 'C2', 'S3', 'C3','S4', 'C4', 'S5', 'C5', 'hand'])\n",
        "poker_test = pd.read_csv(\"poker_test.csv\", header=None, names=['S1', 'C1', 'S2', 'C2', 'S3', 'C3','S4', 'C4', 'S5', 'C5', 'hand'])\n",
        "\n",
        "#Explore the data\n",
        "poker_train.head()"
      ],
      "execution_count": 4,
      "outputs": [
        {
          "output_type": "execute_result",
          "data": {
            "text/plain": [
              "   S1  C1  S2  C2  S3  C3  S4  C4  S5  C5  hand\n",
              "0   1   1   1  13   2   4   2   3   1  12     0\n",
              "1   3  12   3   2   3  11   4   5   2   5     1\n",
              "2   1   9   4   6   1   4   3   2   3   9     1\n",
              "3   1   4   3  13   2  13   2   1   3   6     1\n",
              "4   3  10   2   7   1   2   2  11   4   9     0"
            ],
            "text/html": [
              "\n",
              "  <div id=\"df-bcdee7e5-e316-4cf8-aa7b-16f3209c0f61\">\n",
              "    <div class=\"colab-df-container\">\n",
              "      <div>\n",
              "<style scoped>\n",
              "    .dataframe tbody tr th:only-of-type {\n",
              "        vertical-align: middle;\n",
              "    }\n",
              "\n",
              "    .dataframe tbody tr th {\n",
              "        vertical-align: top;\n",
              "    }\n",
              "\n",
              "    .dataframe thead th {\n",
              "        text-align: right;\n",
              "    }\n",
              "</style>\n",
              "<table border=\"1\" class=\"dataframe\">\n",
              "  <thead>\n",
              "    <tr style=\"text-align: right;\">\n",
              "      <th></th>\n",
              "      <th>S1</th>\n",
              "      <th>C1</th>\n",
              "      <th>S2</th>\n",
              "      <th>C2</th>\n",
              "      <th>S3</th>\n",
              "      <th>C3</th>\n",
              "      <th>S4</th>\n",
              "      <th>C4</th>\n",
              "      <th>S5</th>\n",
              "      <th>C5</th>\n",
              "      <th>hand</th>\n",
              "    </tr>\n",
              "  </thead>\n",
              "  <tbody>\n",
              "    <tr>\n",
              "      <th>0</th>\n",
              "      <td>1</td>\n",
              "      <td>1</td>\n",
              "      <td>1</td>\n",
              "      <td>13</td>\n",
              "      <td>2</td>\n",
              "      <td>4</td>\n",
              "      <td>2</td>\n",
              "      <td>3</td>\n",
              "      <td>1</td>\n",
              "      <td>12</td>\n",
              "      <td>0</td>\n",
              "    </tr>\n",
              "    <tr>\n",
              "      <th>1</th>\n",
              "      <td>3</td>\n",
              "      <td>12</td>\n",
              "      <td>3</td>\n",
              "      <td>2</td>\n",
              "      <td>3</td>\n",
              "      <td>11</td>\n",
              "      <td>4</td>\n",
              "      <td>5</td>\n",
              "      <td>2</td>\n",
              "      <td>5</td>\n",
              "      <td>1</td>\n",
              "    </tr>\n",
              "    <tr>\n",
              "      <th>2</th>\n",
              "      <td>1</td>\n",
              "      <td>9</td>\n",
              "      <td>4</td>\n",
              "      <td>6</td>\n",
              "      <td>1</td>\n",
              "      <td>4</td>\n",
              "      <td>3</td>\n",
              "      <td>2</td>\n",
              "      <td>3</td>\n",
              "      <td>9</td>\n",
              "      <td>1</td>\n",
              "    </tr>\n",
              "    <tr>\n",
              "      <th>3</th>\n",
              "      <td>1</td>\n",
              "      <td>4</td>\n",
              "      <td>3</td>\n",
              "      <td>13</td>\n",
              "      <td>2</td>\n",
              "      <td>13</td>\n",
              "      <td>2</td>\n",
              "      <td>1</td>\n",
              "      <td>3</td>\n",
              "      <td>6</td>\n",
              "      <td>1</td>\n",
              "    </tr>\n",
              "    <tr>\n",
              "      <th>4</th>\n",
              "      <td>3</td>\n",
              "      <td>10</td>\n",
              "      <td>2</td>\n",
              "      <td>7</td>\n",
              "      <td>1</td>\n",
              "      <td>2</td>\n",
              "      <td>2</td>\n",
              "      <td>11</td>\n",
              "      <td>4</td>\n",
              "      <td>9</td>\n",
              "      <td>0</td>\n",
              "    </tr>\n",
              "  </tbody>\n",
              "</table>\n",
              "</div>\n",
              "      <button class=\"colab-df-convert\" onclick=\"convertToInteractive('df-bcdee7e5-e316-4cf8-aa7b-16f3209c0f61')\"\n",
              "              title=\"Convert this dataframe to an interactive table.\"\n",
              "              style=\"display:none;\">\n",
              "        \n",
              "  <svg xmlns=\"http://www.w3.org/2000/svg\" height=\"24px\"viewBox=\"0 0 24 24\"\n",
              "       width=\"24px\">\n",
              "    <path d=\"M0 0h24v24H0V0z\" fill=\"none\"/>\n",
              "    <path d=\"M18.56 5.44l.94 2.06.94-2.06 2.06-.94-2.06-.94-.94-2.06-.94 2.06-2.06.94zm-11 1L8.5 8.5l.94-2.06 2.06-.94-2.06-.94L8.5 2.5l-.94 2.06-2.06.94zm10 10l.94 2.06.94-2.06 2.06-.94-2.06-.94-.94-2.06-.94 2.06-2.06.94z\"/><path d=\"M17.41 7.96l-1.37-1.37c-.4-.4-.92-.59-1.43-.59-.52 0-1.04.2-1.43.59L10.3 9.45l-7.72 7.72c-.78.78-.78 2.05 0 2.83L4 21.41c.39.39.9.59 1.41.59.51 0 1.02-.2 1.41-.59l7.78-7.78 2.81-2.81c.8-.78.8-2.07 0-2.86zM5.41 20L4 18.59l7.72-7.72 1.47 1.35L5.41 20z\"/>\n",
              "  </svg>\n",
              "      </button>\n",
              "      \n",
              "  <style>\n",
              "    .colab-df-container {\n",
              "      display:flex;\n",
              "      flex-wrap:wrap;\n",
              "      gap: 12px;\n",
              "    }\n",
              "\n",
              "    .colab-df-convert {\n",
              "      background-color: #E8F0FE;\n",
              "      border: none;\n",
              "      border-radius: 50%;\n",
              "      cursor: pointer;\n",
              "      display: none;\n",
              "      fill: #1967D2;\n",
              "      height: 32px;\n",
              "      padding: 0 0 0 0;\n",
              "      width: 32px;\n",
              "    }\n",
              "\n",
              "    .colab-df-convert:hover {\n",
              "      background-color: #E2EBFA;\n",
              "      box-shadow: 0px 1px 2px rgba(60, 64, 67, 0.3), 0px 1px 3px 1px rgba(60, 64, 67, 0.15);\n",
              "      fill: #174EA6;\n",
              "    }\n",
              "\n",
              "    [theme=dark] .colab-df-convert {\n",
              "      background-color: #3B4455;\n",
              "      fill: #D2E3FC;\n",
              "    }\n",
              "\n",
              "    [theme=dark] .colab-df-convert:hover {\n",
              "      background-color: #434B5C;\n",
              "      box-shadow: 0px 1px 3px 1px rgba(0, 0, 0, 0.15);\n",
              "      filter: drop-shadow(0px 1px 2px rgba(0, 0, 0, 0.3));\n",
              "      fill: #FFFFFF;\n",
              "    }\n",
              "  </style>\n",
              "\n",
              "      <script>\n",
              "        const buttonEl =\n",
              "          document.querySelector('#df-bcdee7e5-e316-4cf8-aa7b-16f3209c0f61 button.colab-df-convert');\n",
              "        buttonEl.style.display =\n",
              "          google.colab.kernel.accessAllowed ? 'block' : 'none';\n",
              "\n",
              "        async function convertToInteractive(key) {\n",
              "          const element = document.querySelector('#df-bcdee7e5-e316-4cf8-aa7b-16f3209c0f61');\n",
              "          const dataTable =\n",
              "            await google.colab.kernel.invokeFunction('convertToInteractive',\n",
              "                                                     [key], {});\n",
              "          if (!dataTable) return;\n",
              "\n",
              "          const docLinkHtml = 'Like what you see? Visit the ' +\n",
              "            '<a target=\"_blank\" href=https://colab.research.google.com/notebooks/data_table.ipynb>data table notebook</a>'\n",
              "            + ' to learn more about interactive tables.';\n",
              "          element.innerHTML = '';\n",
              "          dataTable['output_type'] = 'display_data';\n",
              "          await google.colab.output.renderOutput(dataTable, element);\n",
              "          const docLink = document.createElement('div');\n",
              "          docLink.innerHTML = docLinkHtml;\n",
              "          element.appendChild(docLink);\n",
              "        }\n",
              "      </script>\n",
              "    </div>\n",
              "  </div>\n",
              "  "
            ]
          },
          "metadata": {},
          "execution_count": 4
        }
      ]
    },
    {
      "cell_type": "code",
      "metadata": {
        "id": "QbX7eMWUx8lk",
        "outputId": "8ea2ab40-a0cf-44ab-a281-f0a5f4301552",
        "colab": {
          "base_uri": "https://localhost:8080/"
        }
      },
      "source": [
        "#Separating features and output from train and test data\n",
        "trainY=poker_train['hand']\n",
        "testY=poker_test['hand']\n",
        "\n",
        "#Create one hot vector of poker hands \n",
        "trainY=pd.get_dummies(trainY)\n",
        "testY=pd.get_dummies(testY)\n",
        "trainX = poker_train.drop(['hand'],axis=1)\n",
        "testX = poker_test.drop(['hand'],axis=1)\n",
        "\n",
        "#Show the column and row numbers train and test data\n",
        "print('Shape of Training Set:',trainX.shape)\n",
        "print('Shape of Testing Set:',testX.shape)\n"
      ],
      "execution_count": 5,
      "outputs": [
        {
          "output_type": "stream",
          "name": "stdout",
          "text": [
            "Shape of Training Set: (25010, 10)\n",
            "Shape of Testing Set: (1000000, 10)\n"
          ]
        }
      ]
    },
    {
      "cell_type": "markdown",
      "metadata": {
        "id": "zcyRHLsvtGeT"
      },
      "source": [
        "**2. CREATING MODEL**\n",
        "\n"
      ]
    },
    {
      "cell_type": "code",
      "metadata": {
        "id": "jBLF8G1ftLvD"
      },
      "source": [
        "import keras\n",
        "from tensorflow.python.keras import Sequential\n",
        "from tensorflow.python.keras.layers import Dense\n",
        "\n",
        "#Model 1 with one hidden layer, 15 neurons in the hidden layer\n",
        "poker_model1 = Sequential()\n",
        "poker_model1.add(Dense(15,input_shape=(10,), activation='relu')) #input layer\n",
        "poker_model1.add(Dense(15, activation='relu')) #hidden layer\n",
        "poker_model1.add(Dense(10, activation='softmax')) #output layer"
      ],
      "execution_count": 6,
      "outputs": []
    },
    {
      "cell_type": "markdown",
      "metadata": {
        "id": "kvhVg37UtMDz"
      },
      "source": [
        "**3. COMPILING MODEL**\n",
        "\n",
        "\n"
      ]
    },
    {
      "cell_type": "code",
      "metadata": {
        "id": "uIsZ70jwtQT1",
        "outputId": "165917a9-8a46-407e-a3ab-d1af6b8be2cc",
        "colab": {
          "base_uri": "https://localhost:8080/"
        }
      },
      "source": [
        "#Compile model\n",
        "poker_model1.compile(optimizer = 'adam', loss = 'categorical_crossentropy', metrics = ['accuracy']) \n",
        "#Show model summary \n",
        "poker_model1.summary()"
      ],
      "execution_count": 7,
      "outputs": [
        {
          "output_type": "stream",
          "name": "stdout",
          "text": [
            "Model: \"sequential\"\n",
            "_________________________________________________________________\n",
            "Layer (type)                 Output Shape              Param #   \n",
            "=================================================================\n",
            "dense (Dense)                (None, 15)                165       \n",
            "_________________________________________________________________\n",
            "dense_1 (Dense)              (None, 15)                240       \n",
            "_________________________________________________________________\n",
            "dense_2 (Dense)              (None, 10)                160       \n",
            "=================================================================\n",
            "Total params: 565\n",
            "Trainable params: 565\n",
            "Non-trainable params: 0\n",
            "_________________________________________________________________\n"
          ]
        }
      ]
    },
    {
      "cell_type": "markdown",
      "metadata": {
        "id": "hTGFd8lZtQgs"
      },
      "source": [
        "**4. FITTING MODEL**\n"
      ]
    },
    {
      "cell_type": "code",
      "metadata": {
        "id": "bph_i2hMtV0C"
      },
      "source": [
        "#Fit model and save hostory in h1\n",
        "h1=poker_model1.fit(trainX, trainY, epochs = 50, batch_size = 100, verbose=0,shuffle=True)"
      ],
      "execution_count": 8,
      "outputs": []
    },
    {
      "cell_type": "markdown",
      "metadata": {
        "id": "A1VH13iptWK0"
      },
      "source": [
        "**5. EVALUATING MODEL**"
      ]
    },
    {
      "cell_type": "code",
      "metadata": {
        "id": "ypPuqgkMulHN",
        "outputId": "6b5f8a59-2502-4c1e-90da-d1ba08773b58",
        "colab": {
          "base_uri": "https://localhost:8080/"
        }
      },
      "source": [
        "#Calculate loss and accuracy of model 1\n",
        "loss1,accuracy1= poker_model1.evaluate(testX,testY,batch_size=100)\n",
        "print()\n",
        "print(\"Model 1: one hidden layer, adam optimizer, 100 batch size and 50 epochs\")\n",
        "print(\"Testing loss=%f accuracy=%f\" % (loss1,accuracy1))"
      ],
      "execution_count": 9,
      "outputs": [
        {
          "output_type": "stream",
          "name": "stdout",
          "text": [
            "10000/10000 [==============================] - 24s 2ms/step - loss: 0.9377 - accuracy: 0.5565\n",
            "\n",
            "Model 1: one hidden layer, adam optimizer, 100 batch size and 50 epochs\n",
            "Testing loss=0.937704 accuracy=0.556541 with \n"
          ]
        }
      ]
    },
    {
      "cell_type": "markdown",
      "metadata": {
        "id": "kyLfLcL9tuK1"
      },
      "source": [
        "**6. TUNING MODEL**\n",
        "\n"
      ]
    },
    {
      "cell_type": "code",
      "metadata": {
        "id": "9wG2ogzOCUds",
        "outputId": "6f535820-8548-40c5-81c0-035e8ab151f1",
        "colab": {
          "base_uri": "https://localhost:8080/"
        }
      },
      "source": [
        "#Model 2 changing hidden layers\n",
        "poker_model2 = Sequential()\n",
        "poker_model2.add(Dense(50,input_shape=(10,), activation='relu')) #input layer\n",
        "poker_model2.add(Dense(50, activation='relu')) #1st hidden layer\n",
        "poker_model2.add(Dense(50, activation='relu')) #2nd hidden layer\n",
        "poker_model2.add(Dense(10, activation='softmax')) #output layer\n",
        "poker_model2.compile(optimizer = 'adam', loss = 'categorical_crossentropy', metrics = ['accuracy']) \n",
        "#Save model history in h2 \n",
        "h2=poker_model2.fit(trainX, trainY, epochs = 50, batch_size = 100, verbose=0,shuffle=True)\n",
        "#Evaluate model\n",
        "loss2,accuracy2 = poker_model2.evaluate(testX,testY,batch_size=100) \n",
        "print()\n",
        "print(\"Model 2: two hidden layers, adam optimizer, 100 batch size and 50 epochs\")\n",
        "print(\"Testing loss=%f accuracy=%f with \" % (loss2,accuracy2))"
      ],
      "execution_count": 10,
      "outputs": [
        {
          "output_type": "stream",
          "name": "stdout",
          "text": [
            "10000/10000 [==============================] - 25s 2ms/step - loss: 0.6810 - accuracy: 0.7077\n",
            "\n",
            "Model 2: two hidden layers, adam optimizer, 100 batch size and 50 epochs\n",
            "Testing loss=0.680975 accuracy=0.707705 with \n"
          ]
        }
      ]
    },
    {
      "cell_type": "code",
      "metadata": {
        "id": "QFCU0z4l_nWR",
        "outputId": "98a0a5b1-42c5-4e78-fc57-c4825895039c",
        "colab": {
          "base_uri": "https://localhost:8080/"
        }
      },
      "source": [
        "#Model 3 changing batch size\n",
        "poker_model3 = Sequential()\n",
        "poker_model3.add(Dense(15,input_shape=(10,), activation='relu')) #input layer\n",
        "poker_model3.add(Dense(15, activation='relu')) #1st hidden layer\n",
        "poker_model3.add(Dense(10, activation='softmax')) #output layer\n",
        "poker_model3.compile(optimizer = 'adam', loss = 'categorical_crossentropy', metrics = ['accuracy'])  \n",
        "h3=poker_model3.fit(trainX, trainY, epochs = 50, batch_size = 50, verbose=0,shuffle=True)\n",
        "loss3,accuracy3 = poker_model3.evaluate(testX,testY,batch_size=50) \n",
        "\n",
        "print()\n",
        "print(\"Model 3: one hidden layer, adam optimizer, 50 batch size and 50 epochs\")\n",
        "print(\"Testing loss=%f accuracy=%f\" % (loss3,accuracy3))"
      ],
      "execution_count": 11,
      "outputs": [
        {
          "output_type": "stream",
          "name": "stdout",
          "text": [
            "20000/20000 [==============================] - 49s 2ms/step - loss: 0.9260 - accuracy: 0.5636\n",
            "\n",
            "Model 3: one hidden layer, adam optimizer, 50 batch size and 50 epochs\n",
            "Testing loss=0.925962 accuracy=0.563576 with \n"
          ]
        }
      ]
    },
    {
      "cell_type": "code",
      "metadata": {
        "id": "ilWQJUwRA4gY",
        "outputId": "2d06ff88-c62f-4354-8b47-a0ec61da12b4",
        "colab": {
          "base_uri": "https://localhost:8080/"
        }
      },
      "source": [
        "#Model 4 changed no of epochs\n",
        "poker_model4 = Sequential()\n",
        "poker_model4.add(Dense(15,input_shape=(10,), activation='relu')) #input layer\n",
        "poker_model4.add(Dense(15, activation='relu')) #1st hidden layer\n",
        "poker_model4.add(Dense(10, activation='softmax')) #output layer\n",
        "poker_model4.compile(optimizer = 'adam', loss = 'categorical_crossentropy', metrics = ['accuracy'])  \n",
        "h4=poker_model4.fit(trainX, trainY, epochs = 500, batch_size = 100, verbose=0,shuffle=True)\n",
        "loss4,accuracy4 = poker_model4.evaluate(testX,testY,batch_size=100) \n",
        "\n",
        "print()\n",
        "print(\"Model 4: one hidden layer, adam optimizer, 50 batch size and 500 epochs\")\n",
        "print(\"Testing loss=%f accuracy=%f with \" % (loss4,accuracy4))"
      ],
      "execution_count": 12,
      "outputs": [
        {
          "output_type": "stream",
          "name": "stdout",
          "text": [
            "10000/10000 [==============================] - 24s 2ms/step - loss: 0.6752 - accuracy: 0.7256\n",
            "\n",
            "Model 4: one hidden layer, adam optimizer, 50 batch size and 500 epochs\n",
            "Testing loss=0.675234 accuracy=0.725563 with \n"
          ]
        }
      ]
    },
    {
      "cell_type": "code",
      "metadata": {
        "id": "twR0-Onwe7tS",
        "outputId": "1675efe2-c025-4bbc-f3ab-5ba25b71b181",
        "colab": {
          "base_uri": "https://localhost:8080/"
        }
      },
      "source": [
        "from tensorflow.keras.optimizers import SGD\n",
        "\n",
        "#Model 5 changed optimizer\n",
        "poker_model5 = Sequential()\n",
        "poker_model5.add(Dense(15,input_shape=(10,), activation='relu')) #input layer\n",
        "poker_model5.add(Dense(15, activation='relu')) #1st hidden layer\n",
        "poker_model5.add(Dense(10, activation='softmax')) #output layer\n",
        "poker_model5.compile(optimizer = 'SGD', loss = 'categorical_crossentropy', metrics = ['accuracy'])  \n",
        "h5=poker_model5.fit(trainX, trainY, epochs = 50, batch_size = 100, verbose=0,shuffle=True)\n",
        "loss5,accuracy5 = poker_model5.evaluate(testX,testY,batch_size=100) \n",
        "\n",
        "print()\n",
        "print(\"Model 5: one hidden layer, SGD optimizer, 100 batch size and 50 epochs\")\n",
        "print(\"Testing loss=%f accuracy=%f with \" % (loss5,accuracy5))"
      ],
      "execution_count": 14,
      "outputs": [
        {
          "output_type": "stream",
          "name": "stdout",
          "text": [
            "10000/10000 [==============================] - 24s 2ms/step - loss: 0.9701 - accuracy: 0.5305\n",
            "\n",
            "Model 5: one hidden layer, SGD optimizer, 100 batch size and 50 epochs\n",
            "Testing loss=0.970076 accuracy=0.530476 with \n"
          ]
        }
      ]
    }
  ]
}