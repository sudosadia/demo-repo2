{
  "nbformat": 4,
  "nbformat_minor": 0,
  "metadata": {
    "colab": {
      "name": "Keras-Tutorial.ipynb",
      "provenance": [],
      "collapsed_sections": [],
      "include_colab_link": true
    },
    "kernelspec": {
      "name": "python3",
      "display_name": "Python 3"
    },
    "accelerator": "GPU"
  },
  "cells": [
    {
      "cell_type": "markdown",
      "metadata": {
        "id": "view-in-github",
        "colab_type": "text"
      },
      "source": [
        "<a href=\"https://colab.research.google.com/github/sudosadia/keras-tutorial/blob/master/Keras_Tutorial.ipynb\" target=\"_parent\"><img src=\"https://colab.research.google.com/assets/colab-badge.svg\" alt=\"Open In Colab\"/></a>"
      ]
    },
    {
      "cell_type": "markdown",
      "source": [
        "**1. LOADING DATA** \n",
        "\n"
      ],
      "metadata": {
        "id": "93jVkR0zcO_y"
      }
    },
    {
      "cell_type": "code",
      "metadata": {
        "id": "fIoJk_IwtHPL",
        "outputId": "8d7199c4-ed48-4032-bc8a-276edf03bb70",
        "colab": {
          "base_uri": "https://localhost:8080/",
          "height": 204
        }
      },
      "source": [
        "# load libraries\n",
        "from pandas import Series, DataFrame\n",
        "import pandas as pd\n",
        "import urllib.request\n",
        "\n",
        "# read poker training and test data from the url and save the file to current directory\n",
        "urllib.request.urlretrieve(\"http://archive.ics.uci.edu/ml/machine-learning-databases/poker/poker-hand-training-true.data\", \"poker_train.csv\")\n",
        "urllib.request.urlretrieve(\"http://archive.ics.uci.edu/ml/machine-learning-databases/poker/poker-hand-testing.data\", \"poker_test.csv\")\n",
        "\n",
        "# read the data in and add column names\n",
        "poker_train = pd.read_csv(\"poker_train.csv\", header=None, names=['S1', 'C1', 'S2', 'C2', 'S3', 'C3','S4', 'C4', 'S5', 'C5', 'hand'])\n",
        "poker_test = pd.read_csv(\"poker_test.csv\", header=None, names=['S1', 'C1', 'S2', 'C2', 'S3', 'C3','S4', 'C4', 'S5', 'C5', 'hand'])\n",
        "\n",
        "#Explore the data\n",
        "poker_train.head()"
      ],
      "execution_count": null,
      "outputs": [
        {
          "output_type": "execute_result",
          "data": {
            "text/html": [
              "<div>\n",
              "<style scoped>\n",
              "    .dataframe tbody tr th:only-of-type {\n",
              "        vertical-align: middle;\n",
              "    }\n",
              "\n",
              "    .dataframe tbody tr th {\n",
              "        vertical-align: top;\n",
              "    }\n",
              "\n",
              "    .dataframe thead th {\n",
              "        text-align: right;\n",
              "    }\n",
              "</style>\n",
              "<table border=\"1\" class=\"dataframe\">\n",
              "  <thead>\n",
              "    <tr style=\"text-align: right;\">\n",
              "      <th></th>\n",
              "      <th>S1</th>\n",
              "      <th>C1</th>\n",
              "      <th>S2</th>\n",
              "      <th>C2</th>\n",
              "      <th>S3</th>\n",
              "      <th>C3</th>\n",
              "      <th>S4</th>\n",
              "      <th>C4</th>\n",
              "      <th>S5</th>\n",
              "      <th>C5</th>\n",
              "      <th>hand</th>\n",
              "    </tr>\n",
              "  </thead>\n",
              "  <tbody>\n",
              "    <tr>\n",
              "      <th>0</th>\n",
              "      <td>1</td>\n",
              "      <td>10</td>\n",
              "      <td>1</td>\n",
              "      <td>11</td>\n",
              "      <td>1</td>\n",
              "      <td>13</td>\n",
              "      <td>1</td>\n",
              "      <td>12</td>\n",
              "      <td>1</td>\n",
              "      <td>1</td>\n",
              "      <td>9</td>\n",
              "    </tr>\n",
              "    <tr>\n",
              "      <th>1</th>\n",
              "      <td>2</td>\n",
              "      <td>11</td>\n",
              "      <td>2</td>\n",
              "      <td>13</td>\n",
              "      <td>2</td>\n",
              "      <td>10</td>\n",
              "      <td>2</td>\n",
              "      <td>12</td>\n",
              "      <td>2</td>\n",
              "      <td>1</td>\n",
              "      <td>9</td>\n",
              "    </tr>\n",
              "    <tr>\n",
              "      <th>2</th>\n",
              "      <td>3</td>\n",
              "      <td>12</td>\n",
              "      <td>3</td>\n",
              "      <td>11</td>\n",
              "      <td>3</td>\n",
              "      <td>13</td>\n",
              "      <td>3</td>\n",
              "      <td>10</td>\n",
              "      <td>3</td>\n",
              "      <td>1</td>\n",
              "      <td>9</td>\n",
              "    </tr>\n",
              "    <tr>\n",
              "      <th>3</th>\n",
              "      <td>4</td>\n",
              "      <td>10</td>\n",
              "      <td>4</td>\n",
              "      <td>11</td>\n",
              "      <td>4</td>\n",
              "      <td>1</td>\n",
              "      <td>4</td>\n",
              "      <td>13</td>\n",
              "      <td>4</td>\n",
              "      <td>12</td>\n",
              "      <td>9</td>\n",
              "    </tr>\n",
              "    <tr>\n",
              "      <th>4</th>\n",
              "      <td>4</td>\n",
              "      <td>1</td>\n",
              "      <td>4</td>\n",
              "      <td>13</td>\n",
              "      <td>4</td>\n",
              "      <td>12</td>\n",
              "      <td>4</td>\n",
              "      <td>11</td>\n",
              "      <td>4</td>\n",
              "      <td>10</td>\n",
              "      <td>9</td>\n",
              "    </tr>\n",
              "  </tbody>\n",
              "</table>\n",
              "</div>"
            ],
            "text/plain": [
              "   S1  C1  S2  C2  S3  C3  S4  C4  S5  C5  hand\n",
              "0   1  10   1  11   1  13   1  12   1   1     9\n",
              "1   2  11   2  13   2  10   2  12   2   1     9\n",
              "2   3  12   3  11   3  13   3  10   3   1     9\n",
              "3   4  10   4  11   4   1   4  13   4  12     9\n",
              "4   4   1   4  13   4  12   4  11   4  10     9"
            ]
          },
          "metadata": {
            "tags": []
          },
          "execution_count": 64
        }
      ]
    },
    {
      "cell_type": "code",
      "metadata": {
        "id": "QbX7eMWUx8lk",
        "outputId": "4862ed09-4733-4214-eec9-0ca76681336a",
        "colab": {
          "base_uri": "https://localhost:8080/",
          "height": 238
        }
      },
      "source": [
        "#Separating features and output from train and test data\n",
        "trainY=poker_train['hand']\n",
        "testY=poker_test['hand']\n",
        "\n",
        "#Create one hot vector of poker hands \n",
        "trainY=pd.get_dummies(trainY)\n",
        "testY=pd.get_dummies(testY)\n",
        "trainX = poker_train.drop(['hand'],axis=1)\n",
        "testX = poker_test.drop(['hand'],axis=1)\n",
        "\n",
        "#Show the column and row numbers train and test data\n",
        "print('Shape of Training Set:',trainX.shape)\n",
        "print('Shape of Testing Set:',testX.shape)\n",
        "\n",
        "trainX.head()"
      ],
      "execution_count": null,
      "outputs": [
        {
          "output_type": "stream",
          "text": [
            "Shape of Training Set: (25010, 10)\n",
            "Shape of Testing Set: (1000000, 10)\n"
          ],
          "name": "stdout"
        },
        {
          "output_type": "execute_result",
          "data": {
            "text/html": [
              "<div>\n",
              "<style scoped>\n",
              "    .dataframe tbody tr th:only-of-type {\n",
              "        vertical-align: middle;\n",
              "    }\n",
              "\n",
              "    .dataframe tbody tr th {\n",
              "        vertical-align: top;\n",
              "    }\n",
              "\n",
              "    .dataframe thead th {\n",
              "        text-align: right;\n",
              "    }\n",
              "</style>\n",
              "<table border=\"1\" class=\"dataframe\">\n",
              "  <thead>\n",
              "    <tr style=\"text-align: right;\">\n",
              "      <th></th>\n",
              "      <th>S1</th>\n",
              "      <th>C1</th>\n",
              "      <th>S2</th>\n",
              "      <th>C2</th>\n",
              "      <th>S3</th>\n",
              "      <th>C3</th>\n",
              "      <th>S4</th>\n",
              "      <th>C4</th>\n",
              "      <th>S5</th>\n",
              "      <th>C5</th>\n",
              "    </tr>\n",
              "  </thead>\n",
              "  <tbody>\n",
              "    <tr>\n",
              "      <th>0</th>\n",
              "      <td>1</td>\n",
              "      <td>10</td>\n",
              "      <td>1</td>\n",
              "      <td>11</td>\n",
              "      <td>1</td>\n",
              "      <td>13</td>\n",
              "      <td>1</td>\n",
              "      <td>12</td>\n",
              "      <td>1</td>\n",
              "      <td>1</td>\n",
              "    </tr>\n",
              "    <tr>\n",
              "      <th>1</th>\n",
              "      <td>2</td>\n",
              "      <td>11</td>\n",
              "      <td>2</td>\n",
              "      <td>13</td>\n",
              "      <td>2</td>\n",
              "      <td>10</td>\n",
              "      <td>2</td>\n",
              "      <td>12</td>\n",
              "      <td>2</td>\n",
              "      <td>1</td>\n",
              "    </tr>\n",
              "    <tr>\n",
              "      <th>2</th>\n",
              "      <td>3</td>\n",
              "      <td>12</td>\n",
              "      <td>3</td>\n",
              "      <td>11</td>\n",
              "      <td>3</td>\n",
              "      <td>13</td>\n",
              "      <td>3</td>\n",
              "      <td>10</td>\n",
              "      <td>3</td>\n",
              "      <td>1</td>\n",
              "    </tr>\n",
              "    <tr>\n",
              "      <th>3</th>\n",
              "      <td>4</td>\n",
              "      <td>10</td>\n",
              "      <td>4</td>\n",
              "      <td>11</td>\n",
              "      <td>4</td>\n",
              "      <td>1</td>\n",
              "      <td>4</td>\n",
              "      <td>13</td>\n",
              "      <td>4</td>\n",
              "      <td>12</td>\n",
              "    </tr>\n",
              "    <tr>\n",
              "      <th>4</th>\n",
              "      <td>4</td>\n",
              "      <td>1</td>\n",
              "      <td>4</td>\n",
              "      <td>13</td>\n",
              "      <td>4</td>\n",
              "      <td>12</td>\n",
              "      <td>4</td>\n",
              "      <td>11</td>\n",
              "      <td>4</td>\n",
              "      <td>10</td>\n",
              "    </tr>\n",
              "  </tbody>\n",
              "</table>\n",
              "</div>"
            ],
            "text/plain": [
              "   S1  C1  S2  C2  S3  C3  S4  C4  S5  C5\n",
              "0   1  10   1  11   1  13   1  12   1   1\n",
              "1   2  11   2  13   2  10   2  12   2   1\n",
              "2   3  12   3  11   3  13   3  10   3   1\n",
              "3   4  10   4  11   4   1   4  13   4  12\n",
              "4   4   1   4  13   4  12   4  11   4  10"
            ]
          },
          "metadata": {
            "tags": []
          },
          "execution_count": 65
        }
      ]
    },
    {
      "cell_type": "code",
      "metadata": {
        "id": "rAxLrpwM9PVB",
        "outputId": "83d6fbcc-9a02-4c1a-c6a5-1c4afb9b4d59",
        "colab": {
          "base_uri": "https://localhost:8080/",
          "height": 204
        }
      },
      "source": [
        "trainY.head()"
      ],
      "execution_count": null,
      "outputs": [
        {
          "output_type": "execute_result",
          "data": {
            "text/html": [
              "<div>\n",
              "<style scoped>\n",
              "    .dataframe tbody tr th:only-of-type {\n",
              "        vertical-align: middle;\n",
              "    }\n",
              "\n",
              "    .dataframe tbody tr th {\n",
              "        vertical-align: top;\n",
              "    }\n",
              "\n",
              "    .dataframe thead th {\n",
              "        text-align: right;\n",
              "    }\n",
              "</style>\n",
              "<table border=\"1\" class=\"dataframe\">\n",
              "  <thead>\n",
              "    <tr style=\"text-align: right;\">\n",
              "      <th></th>\n",
              "      <th>0</th>\n",
              "      <th>1</th>\n",
              "      <th>2</th>\n",
              "      <th>3</th>\n",
              "      <th>4</th>\n",
              "      <th>5</th>\n",
              "      <th>6</th>\n",
              "      <th>7</th>\n",
              "      <th>8</th>\n",
              "      <th>9</th>\n",
              "    </tr>\n",
              "  </thead>\n",
              "  <tbody>\n",
              "    <tr>\n",
              "      <th>0</th>\n",
              "      <td>0</td>\n",
              "      <td>0</td>\n",
              "      <td>0</td>\n",
              "      <td>0</td>\n",
              "      <td>0</td>\n",
              "      <td>0</td>\n",
              "      <td>0</td>\n",
              "      <td>0</td>\n",
              "      <td>0</td>\n",
              "      <td>1</td>\n",
              "    </tr>\n",
              "    <tr>\n",
              "      <th>1</th>\n",
              "      <td>0</td>\n",
              "      <td>0</td>\n",
              "      <td>0</td>\n",
              "      <td>0</td>\n",
              "      <td>0</td>\n",
              "      <td>0</td>\n",
              "      <td>0</td>\n",
              "      <td>0</td>\n",
              "      <td>0</td>\n",
              "      <td>1</td>\n",
              "    </tr>\n",
              "    <tr>\n",
              "      <th>2</th>\n",
              "      <td>0</td>\n",
              "      <td>0</td>\n",
              "      <td>0</td>\n",
              "      <td>0</td>\n",
              "      <td>0</td>\n",
              "      <td>0</td>\n",
              "      <td>0</td>\n",
              "      <td>0</td>\n",
              "      <td>0</td>\n",
              "      <td>1</td>\n",
              "    </tr>\n",
              "    <tr>\n",
              "      <th>3</th>\n",
              "      <td>0</td>\n",
              "      <td>0</td>\n",
              "      <td>0</td>\n",
              "      <td>0</td>\n",
              "      <td>0</td>\n",
              "      <td>0</td>\n",
              "      <td>0</td>\n",
              "      <td>0</td>\n",
              "      <td>0</td>\n",
              "      <td>1</td>\n",
              "    </tr>\n",
              "    <tr>\n",
              "      <th>4</th>\n",
              "      <td>0</td>\n",
              "      <td>0</td>\n",
              "      <td>0</td>\n",
              "      <td>0</td>\n",
              "      <td>0</td>\n",
              "      <td>0</td>\n",
              "      <td>0</td>\n",
              "      <td>0</td>\n",
              "      <td>0</td>\n",
              "      <td>1</td>\n",
              "    </tr>\n",
              "  </tbody>\n",
              "</table>\n",
              "</div>"
            ],
            "text/plain": [
              "   0  1  2  3  4  5  6  7  8  9\n",
              "0  0  0  0  0  0  0  0  0  0  1\n",
              "1  0  0  0  0  0  0  0  0  0  1\n",
              "2  0  0  0  0  0  0  0  0  0  1\n",
              "3  0  0  0  0  0  0  0  0  0  1\n",
              "4  0  0  0  0  0  0  0  0  0  1"
            ]
          },
          "metadata": {
            "tags": []
          },
          "execution_count": 66
        }
      ]
    },
    {
      "cell_type": "markdown",
      "metadata": {
        "id": "zcyRHLsvtGeT"
      },
      "source": [
        "**2. CREATING MODEL**\n",
        "\n"
      ]
    },
    {
      "cell_type": "code",
      "metadata": {
        "id": "jBLF8G1ftLvD"
      },
      "source": [
        "import keras\n",
        "from tensorflow.python.keras import Sequential\n",
        "from tensorflow.python.keras.layers import Dense\n",
        "\n",
        "#Model 1 with one hidden layer, 15 neurons in the hidden layer\n",
        "poker_model1 = Sequential()\n",
        "poker_model1.add(Dense(15,input_shape=(10,), activation='relu')) #input layer\n",
        "poker_model1.add(Dense(15, activation='relu')) #hidden layer\n",
        "poker_model1.add(Dense(10, activation='softmax')) #output layer"
      ],
      "execution_count": null,
      "outputs": []
    },
    {
      "cell_type": "markdown",
      "metadata": {
        "id": "kvhVg37UtMDz"
      },
      "source": [
        "**3. COMPILING MODEL**\n",
        "\n",
        "\n"
      ]
    },
    {
      "cell_type": "code",
      "metadata": {
        "id": "uIsZ70jwtQT1",
        "outputId": "a9538492-dd60-46f5-898f-e1ab24516a14",
        "colab": {
          "base_uri": "https://localhost:8080/",
          "height": 255
        }
      },
      "source": [
        "#Compile model\n",
        "poker_model1.compile(optimizer = 'adam', loss = 'categorical_crossentropy', metrics = ['accuracy']) \n",
        "#Show model summary \n",
        "poker_model1.summary()"
      ],
      "execution_count": null,
      "outputs": [
        {
          "output_type": "stream",
          "text": [
            "Model: \"sequential_25\"\n",
            "_________________________________________________________________\n",
            "Layer (type)                 Output Shape              Param #   \n",
            "=================================================================\n",
            "dense_83 (Dense)             (None, 15)                165       \n",
            "_________________________________________________________________\n",
            "dense_84 (Dense)             (None, 15)                240       \n",
            "_________________________________________________________________\n",
            "dense_85 (Dense)             (None, 10)                160       \n",
            "=================================================================\n",
            "Total params: 565\n",
            "Trainable params: 565\n",
            "Non-trainable params: 0\n",
            "_________________________________________________________________\n"
          ],
          "name": "stdout"
        }
      ]
    },
    {
      "cell_type": "markdown",
      "metadata": {
        "id": "hTGFd8lZtQgs"
      },
      "source": [
        "**4. FITTING MODEL**\n"
      ]
    },
    {
      "cell_type": "code",
      "metadata": {
        "id": "bph_i2hMtV0C"
      },
      "source": [
        "#Fit model and save hostory in h1\n",
        "h1=poker_model1.fit(trainX, trainY, epochs = 50, batch_size = 100, verbose=0,shuffle=True)"
      ],
      "execution_count": null,
      "outputs": []
    },
    {
      "cell_type": "markdown",
      "metadata": {
        "id": "A1VH13iptWK0"
      },
      "source": [
        "**5. EVALUATING MODEL**"
      ]
    },
    {
      "cell_type": "code",
      "metadata": {
        "id": "ypPuqgkMulHN",
        "outputId": "d4b2a316-26e3-459a-fa28-246e9de0d56f",
        "colab": {
          "base_uri": "https://localhost:8080/",
          "height": 105
        }
      },
      "source": [
        "#Calculate loss and accuracy of model 1\n",
        "loss1,accuracy1= poker_model1.evaluate(testX,testY,batch_size=100)\n",
        "print()\n",
        "print(\"Model 1: one hidden layer, adam optimizer, 100 batch size and 50 epochs\")\n",
        "print(\"Testing loss=%f accuracy=%f with \" % (loss1,accuracy1))"
      ],
      "execution_count": null,
      "outputs": [
        {
          "output_type": "stream",
          "text": [
            "10000/10000 [==============================] - 17s 2ms/step - loss: 0.9168 - accuracy: 0.5763\n",
            "\n",
            "Model 1: one hidden layer, adam optimizer, 100 batch size and 50 epochs\n",
            "Testing loss=0.916785 accuracy=0.576310 with \n"
          ],
          "name": "stdout"
        }
      ]
    },
    {
      "cell_type": "markdown",
      "metadata": {
        "id": "kyLfLcL9tuK1"
      },
      "source": [
        "**6. TUNING MODEL**\n",
        "\n"
      ]
    },
    {
      "cell_type": "code",
      "metadata": {
        "id": "9wG2ogzOCUds",
        "outputId": "eb1b524b-3e88-43d2-cc9e-04059e28252a",
        "colab": {
          "base_uri": "https://localhost:8080/",
          "height": 105
        }
      },
      "source": [
        "#Model 2 changing hidden layers\n",
        "poker_model2 = Sequential()\n",
        "poker_model2.add(Dense(50,input_shape=(10,), activation='relu')) #input layer\n",
        "poker_model2.add(Dense(50, activation='relu')) #1st hidden layer\n",
        "poker_model2.add(Dense(50, activation='relu')) #2nd hidden layer\n",
        "poker_model2.add(Dense(10, activation='softmax')) #output layer\n",
        "poker_model2.compile(optimizer = 'adam', loss = 'categorical_crossentropy', metrics = ['accuracy']) \n",
        "#Save model history in h2 \n",
        "h2=poker_model2.fit(trainX, trainY, epochs = 50, batch_size = 100, verbose=0,shuffle=True)\n",
        "#Evaluate model\n",
        "loss2,accuracy2 = poker_model2.evaluate(testX,testY,batch_size=100) \n",
        "print()\n",
        "print(\"Model 2: two hidden layers, adam optimizer, 100 batch size and 50 epochs\")\n",
        "print(\"Testing loss=%f accuracy=%f with \" % (loss2,accuracy2))"
      ],
      "execution_count": null,
      "outputs": [
        {
          "output_type": "stream",
          "text": [
            "10000/10000 [==============================] - 18s 2ms/step - loss: 0.6402 - accuracy: 0.7396\n",
            "\n",
            "Model 2: two hidden layers, adam optimizer, 100 batch size and 50 epochs\n",
            "Testing loss=0.640213 accuracy=0.739647 with \n"
          ],
          "name": "stdout"
        }
      ]
    },
    {
      "cell_type": "code",
      "metadata": {
        "id": "QFCU0z4l_nWR",
        "outputId": "0a07786b-82fc-4cb4-ceea-a5b1b157ba30",
        "colab": {
          "base_uri": "https://localhost:8080/",
          "height": 105
        }
      },
      "source": [
        "#Model 3 changing batch size\n",
        "poker_model3 = Sequential()\n",
        "poker_model3.add(Dense(15,input_shape=(10,), activation='relu')) #input layer\n",
        "poker_model3.add(Dense(15, activation='relu')) #1st hidden layer\n",
        "poker_model3.add(Dense(10, activation='softmax')) #output layer\n",
        "poker_model3.compile(optimizer = 'adam', loss = 'categorical_crossentropy', metrics = ['accuracy'])  \n",
        "h3=poker_model3.fit(trainX, trainY, epochs = 50, batch_size = 50, verbose=0,shuffle=True)\n",
        "loss3,accuracy3 = poker_model3.evaluate(testX,testY,batch_size=50) \n",
        "\n",
        "print()\n",
        "print(\"Model 3: one hidden layer, adam optimizer, 50 batch size and 50 epochs\")\n",
        "print(\"Testing loss=%f accuracy=%f with \" % (loss3,accuracy3))"
      ],
      "execution_count": null,
      "outputs": [
        {
          "output_type": "stream",
          "text": [
            "20000/20000 [==============================] - 35s 2ms/step - loss: 0.8798 - accuracy: 0.6036\n",
            "\n",
            "Model 3: one hidden layer, adam optimizer, 50 batch size and 50 epochs\n",
            "Testing loss=0.879772 accuracy=0.603581 with \n"
          ],
          "name": "stdout"
        }
      ]
    },
    {
      "cell_type": "code",
      "metadata": {
        "id": "ilWQJUwRA4gY",
        "outputId": "15523303-50c0-4112-b4db-d4a34c58f18c",
        "colab": {
          "base_uri": "https://localhost:8080/",
          "height": 105
        }
      },
      "source": [
        "#Model 4 changed no of epochs\n",
        "poker_model4 = Sequential()\n",
        "poker_model4.add(Dense(15,input_shape=(10,), activation='relu')) #input layer\n",
        "poker_model4.add(Dense(15, activation='relu')) #1st hidden layer\n",
        "poker_model4.add(Dense(10, activation='softmax')) #output layer\n",
        "poker_model4.compile(optimizer = 'adam', loss = 'categorical_crossentropy', metrics = ['accuracy'])  \n",
        "h4=poker_model4.fit(trainX, trainY, epochs = 500, batch_size = 100, verbose=0,shuffle=True)\n",
        "loss4,accuracy4 = poker_model4.evaluate(testX,testY,batch_size=100) \n",
        "\n",
        "print()\n",
        "print(\"Model 4: one hidden layer, adam optimizer, 50 batch size and 500 epochs\")\n",
        "print(\"Testing loss=%f accuracy=%f with \" % (loss4,accuracy4))"
      ],
      "execution_count": null,
      "outputs": [
        {
          "output_type": "stream",
          "text": [
            "10000/10000 [==============================] - 18s 2ms/step - loss: 0.7136 - accuracy: 0.7023\n",
            "\n",
            "Model 4: one hidden layer, adam optimizer, 50 batch size and 500 epochs\n",
            "Testing loss=0.713568 accuracy=0.702335 with \n"
          ],
          "name": "stdout"
        }
      ]
    },
    {
      "cell_type": "code",
      "metadata": {
        "id": "twR0-Onwe7tS",
        "outputId": "6a669ac1-2d86-44af-89ec-91b9162048c3",
        "colab": {
          "base_uri": "https://localhost:8080/",
          "height": 85
        }
      },
      "source": [
        "from tensorflow.python.keras.optimizers import SGD\n",
        "\n",
        "#Model 5 changed opttimizer\n",
        "poker_model5 = Sequential()\n",
        "poker_model5.add(Dense(15,input_shape=(10,), activation='relu')) #input layer\n",
        "poker_model5.add(Dense(15, activation='relu')) #1st hidden layer\n",
        "poker_model5.add(Dense(10, activation='softmax')) #output layer\n",
        "poker_model5.compile(optimizer = 'SGD', loss = 'categorical_crossentropy', metrics = ['accuracy'])  \n",
        "h5=poker_model5.fit(trainX, trainY, epochs = 50, batch_size = 100, verbose=0,shuffle=True)\n",
        "loss5,accuracy5 = poker_model5.evaluate(testX,testY,batch_size=100) \n",
        "\n",
        "print()\n",
        "print(\"Model 5: one hidden layer, SGD optimizer, 100 batch size and 50 epochs\")\n",
        "print(\"Testing loss=%f accuracy=%f with \" % (loss5,accuracy5))"
      ],
      "execution_count": null,
      "outputs": [
        {
          "output_type": "stream",
          "text": [
            "10000/10000 [==============================] - 19s 2ms/step - loss: 0.9747 - accuracy: 0.5239\n",
            "\n",
            "Model 5: one hidden layer, SGD optimizer, 100 batch size and 50 epochs\n",
            "Testing loss=0.974669 accuracy=0.523946 with \n"
          ],
          "name": "stdout"
        }
      ]
    }
  ]
}