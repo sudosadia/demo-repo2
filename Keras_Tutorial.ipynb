{
  "nbformat": 4,
  "nbformat_minor": 0,
  "metadata": {
    "colab": {
      "name": "Keras-Tutorial.ipynb",
      "provenance": [],
      "collapsed_sections": [],
      "include_colab_link": true
    },
    "kernelspec": {
      "name": "python3",
      "display_name": "Python 3"
    },
    "accelerator": "GPU"
  },
  "cells": [
    {
      "cell_type": "markdown",
      "metadata": {
        "id": "view-in-github",
        "colab_type": "text"
      },
      "source": [
        "<a href=\"https://colab.research.google.com/github/sudosadia/demo-repo2/blob/master/Keras_Tutorial.ipynb\" target=\"_parent\"><img src=\"https://colab.research.google.com/assets/colab-badge.svg\" alt=\"Open In Colab\"/></a>"
      ]
    },
    {
      "cell_type": "markdown",
      "metadata": {
        "id": "egOj99vmVm51"
      },
      "source": [
        "### **Keras Tutorial Project**\n",
        "\n",
        "In this project, we create a tutorial to learn keras. We have used the dataset Poker Hand that is availavle in this link: http://archive.ics.uci.edu \n",
        "The tutorial includes the following topics: \n",
        "\n",
        "1. Loading Data\n",
        "2. Creating Model using Keras\n",
        "3. Compiling Model\n",
        "4. Training Model\n",
        "5. Evaluating Model\n",
        "6. Creating Complex Keras Model\n",
        "7. Tuning Parameters\n"
      ]
    },
    {
      "cell_type": "markdown",
      "metadata": {
        "id": "km9JFIL4s8MR"
      },
      "source": [
        " **Data Description:** \n",
        " \n",
        " The Poker Hand database consists of 1,025,010 instances of poker hands. Each instance is an example of a poker hand consisting of five cards drawn from a standard deck of 52 cards. Each card is described using two attributes (suit and rank), for a total of 10 features. There is one Class attribute that describes the Poker Hand. The order of cards is important, which is why there are 480 possible Royal Flush hands as compared to 4 (one for each suit  explained in more detail below):\n",
        "\n",
        "*   S1 - Suit of card 1: Ordinal (1-4) representing: Hearts=1, Spades=2, Diamonds=3, Clubs=4\n",
        "*   C1 - Rank of card 1: Numerical (1-13) representing: Ace=1, 2, 3, 4, 5, 6, 7, 8, 9, 10 , Jack=11, Queen=12, King=13\n",
        "* S2 - Suit of card 2: Ordinal (1-4) representing: Hearts=1, Spades=2, Diamonds=3, Clubs=4\n",
        "* C2 - Rank of card 2: Numerical (1-13) representing: Ace=1, 2, 3, 4, 5, 6, 7, 8, 9, 10 , Jack=11, Queen=12, King=13\n",
        "*S3 - Suit of card 3: Ordinal (1-4) representing: Hearts=1, Spades=2, Diamonds=3, Clubs=4\n",
        "*C3 - Rank of card 3: Numerical (1-13) representing: Ace=1, 2, 3, 4, 5, 6, 7, 8, 9, 10 , Jack=11, Queen=12, King=13\n",
        "* S4 - Suit of card 4: Ordinal (1-4) representing: Hearts=1, Spades=2, Diamonds=3, Clubs=4\n",
        "* C4 - Rank of card 4: Numerical (1-13) representing: Ace=1, 2, 3, 4, 5, 6, 7, 8, 9, 10 , Jack=11, Queen=12, King=13\n",
        "* S5 - Suit of card 5: Ordinal (1-4) representing: Hearts=1, Spades=2, Diamonds=3, Clubs=4\n",
        "* C5 - Rank of card 5: Numerical (1-13) representing: Ace=1, 2, 3, 4, 5, 6, 7, 8, 9, 10 , Jack=11, Queen=12, King=13\n",
        "\n",
        "CLASS Poker Hand:  Ordinal (0-9)\n",
        "* 0 - Nothing in hand; not a recognized poker hand \n",
        "* 1 - One pair; one pair of equal ranks within five cards\n",
        "* 2 - Two pairs; two pairs of equal ranks within five cards\n",
        "* 3 - Three of a kind; three equal ranks within five cards\n",
        "* 4 - Straight; five cards, sequentially ranked with no gaps\n",
        "* 5 - Flush; five cards with the same suit\n",
        "* 6 - Full house; pair + different rank three of a kind\n",
        "* 7 - Four of a kind; four equal ranks within five cards\n",
        "* 8 - Straight flush; straight + flush\n",
        "* 9 - Royal flush; {Ace, King, Queen, Jack, Ten} + flush\n",
        "\n",
        " "
      ]
    },
    {
      "cell_type": "markdown",
      "source": [
        "**How to load data:** \n",
        "\n",
        "There are multiple ways to load data. We have used panda library to read data. First we retrieve the CSV files from the url using urlretrive() method. Then we read the csv files using panda and add column headers. Column headers represent Suit and Rank names and Poker hand. We have total 11 columns. We can see how the matrix looks like by using head() method.\n",
        "\n",
        "The next step is to prepare the training and testing data. The training and testing data do not need the last column which represents the poker hand. We drop that column and construct trainX and testX. The trainY and testY represents the output which consists only of the last column(poker hand). Later we convert output vector to one hot vector since its a multiclass classification. "
      ],
      "metadata": {
        "id": "93jVkR0zcO_y"
      }
    },
    {
      "cell_type": "code",
      "metadata": {
        "id": "fIoJk_IwtHPL",
        "outputId": "8d7199c4-ed48-4032-bc8a-276edf03bb70",
        "colab": {
          "base_uri": "https://localhost:8080/",
          "height": 204
        }
      },
      "source": [
        "# load libraries\n",
        "from pandas import Series, DataFrame\n",
        "import pandas as pd\n",
        "import urllib.request\n",
        "\n",
        "# read poker training and test data from the url and save the file to current directory\n",
        "urllib.request.urlretrieve(\"http://archive.ics.uci.edu/ml/machine-learning-databases/poker/poker-hand-training-true.data\", \"poker_train.csv\")\n",
        "urllib.request.urlretrieve(\"http://archive.ics.uci.edu/ml/machine-learning-databases/poker/poker-hand-testing.data\", \"poker_test.csv\")\n",
        "\n",
        "# read the data in and add column names\n",
        "poker_train = pd.read_csv(\"poker_train.csv\", header=None, names=['S1', 'C1', 'S2', 'C2', 'S3', 'C3','S4', 'C4', 'S5', 'C5', 'hand'])\n",
        "poker_test = pd.read_csv(\"poker_test.csv\", header=None, names=['S1', 'C1', 'S2', 'C2', 'S3', 'C3','S4', 'C4', 'S5', 'C5', 'hand'])\n",
        "\n",
        "#Explore the data\n",
        "poker_train.head()"
      ],
      "execution_count": null,
      "outputs": [
        {
          "output_type": "execute_result",
          "data": {
            "text/html": [
              "<div>\n",
              "<style scoped>\n",
              "    .dataframe tbody tr th:only-of-type {\n",
              "        vertical-align: middle;\n",
              "    }\n",
              "\n",
              "    .dataframe tbody tr th {\n",
              "        vertical-align: top;\n",
              "    }\n",
              "\n",
              "    .dataframe thead th {\n",
              "        text-align: right;\n",
              "    }\n",
              "</style>\n",
              "<table border=\"1\" class=\"dataframe\">\n",
              "  <thead>\n",
              "    <tr style=\"text-align: right;\">\n",
              "      <th></th>\n",
              "      <th>S1</th>\n",
              "      <th>C1</th>\n",
              "      <th>S2</th>\n",
              "      <th>C2</th>\n",
              "      <th>S3</th>\n",
              "      <th>C3</th>\n",
              "      <th>S4</th>\n",
              "      <th>C4</th>\n",
              "      <th>S5</th>\n",
              "      <th>C5</th>\n",
              "      <th>hand</th>\n",
              "    </tr>\n",
              "  </thead>\n",
              "  <tbody>\n",
              "    <tr>\n",
              "      <th>0</th>\n",
              "      <td>1</td>\n",
              "      <td>10</td>\n",
              "      <td>1</td>\n",
              "      <td>11</td>\n",
              "      <td>1</td>\n",
              "      <td>13</td>\n",
              "      <td>1</td>\n",
              "      <td>12</td>\n",
              "      <td>1</td>\n",
              "      <td>1</td>\n",
              "      <td>9</td>\n",
              "    </tr>\n",
              "    <tr>\n",
              "      <th>1</th>\n",
              "      <td>2</td>\n",
              "      <td>11</td>\n",
              "      <td>2</td>\n",
              "      <td>13</td>\n",
              "      <td>2</td>\n",
              "      <td>10</td>\n",
              "      <td>2</td>\n",
              "      <td>12</td>\n",
              "      <td>2</td>\n",
              "      <td>1</td>\n",
              "      <td>9</td>\n",
              "    </tr>\n",
              "    <tr>\n",
              "      <th>2</th>\n",
              "      <td>3</td>\n",
              "      <td>12</td>\n",
              "      <td>3</td>\n",
              "      <td>11</td>\n",
              "      <td>3</td>\n",
              "      <td>13</td>\n",
              "      <td>3</td>\n",
              "      <td>10</td>\n",
              "      <td>3</td>\n",
              "      <td>1</td>\n",
              "      <td>9</td>\n",
              "    </tr>\n",
              "    <tr>\n",
              "      <th>3</th>\n",
              "      <td>4</td>\n",
              "      <td>10</td>\n",
              "      <td>4</td>\n",
              "      <td>11</td>\n",
              "      <td>4</td>\n",
              "      <td>1</td>\n",
              "      <td>4</td>\n",
              "      <td>13</td>\n",
              "      <td>4</td>\n",
              "      <td>12</td>\n",
              "      <td>9</td>\n",
              "    </tr>\n",
              "    <tr>\n",
              "      <th>4</th>\n",
              "      <td>4</td>\n",
              "      <td>1</td>\n",
              "      <td>4</td>\n",
              "      <td>13</td>\n",
              "      <td>4</td>\n",
              "      <td>12</td>\n",
              "      <td>4</td>\n",
              "      <td>11</td>\n",
              "      <td>4</td>\n",
              "      <td>10</td>\n",
              "      <td>9</td>\n",
              "    </tr>\n",
              "  </tbody>\n",
              "</table>\n",
              "</div>"
            ],
            "text/plain": [
              "   S1  C1  S2  C2  S3  C3  S4  C4  S5  C5  hand\n",
              "0   1  10   1  11   1  13   1  12   1   1     9\n",
              "1   2  11   2  13   2  10   2  12   2   1     9\n",
              "2   3  12   3  11   3  13   3  10   3   1     9\n",
              "3   4  10   4  11   4   1   4  13   4  12     9\n",
              "4   4   1   4  13   4  12   4  11   4  10     9"
            ]
          },
          "metadata": {
            "tags": []
          },
          "execution_count": 64
        }
      ]
    },
    {
      "cell_type": "code",
      "metadata": {
        "id": "QbX7eMWUx8lk",
        "outputId": "4862ed09-4733-4214-eec9-0ca76681336a",
        "colab": {
          "base_uri": "https://localhost:8080/",
          "height": 238
        }
      },
      "source": [
        "#Separating features and output from train and test data\n",
        "trainY=poker_train['hand']\n",
        "testY=poker_test['hand']\n",
        "\n",
        "#Create one hot vector of poker hands \n",
        "trainY=pd.get_dummies(trainY)\n",
        "testY=pd.get_dummies(testY)\n",
        "trainX = poker_train.drop(['hand'],axis=1)\n",
        "testX = poker_test.drop(['hand'],axis=1)\n",
        "\n",
        "#Show the column and row numbers train and test data\n",
        "print('Shape of Training Set:',trainX.shape)\n",
        "print('Shape of Testing Set:',testX.shape)\n",
        "\n",
        "trainX.head()"
      ],
      "execution_count": null,
      "outputs": [
        {
          "output_type": "stream",
          "text": [
            "Shape of Training Set: (25010, 10)\n",
            "Shape of Testing Set: (1000000, 10)\n"
          ],
          "name": "stdout"
        },
        {
          "output_type": "execute_result",
          "data": {
            "text/html": [
              "<div>\n",
              "<style scoped>\n",
              "    .dataframe tbody tr th:only-of-type {\n",
              "        vertical-align: middle;\n",
              "    }\n",
              "\n",
              "    .dataframe tbody tr th {\n",
              "        vertical-align: top;\n",
              "    }\n",
              "\n",
              "    .dataframe thead th {\n",
              "        text-align: right;\n",
              "    }\n",
              "</style>\n",
              "<table border=\"1\" class=\"dataframe\">\n",
              "  <thead>\n",
              "    <tr style=\"text-align: right;\">\n",
              "      <th></th>\n",
              "      <th>S1</th>\n",
              "      <th>C1</th>\n",
              "      <th>S2</th>\n",
              "      <th>C2</th>\n",
              "      <th>S3</th>\n",
              "      <th>C3</th>\n",
              "      <th>S4</th>\n",
              "      <th>C4</th>\n",
              "      <th>S5</th>\n",
              "      <th>C5</th>\n",
              "    </tr>\n",
              "  </thead>\n",
              "  <tbody>\n",
              "    <tr>\n",
              "      <th>0</th>\n",
              "      <td>1</td>\n",
              "      <td>10</td>\n",
              "      <td>1</td>\n",
              "      <td>11</td>\n",
              "      <td>1</td>\n",
              "      <td>13</td>\n",
              "      <td>1</td>\n",
              "      <td>12</td>\n",
              "      <td>1</td>\n",
              "      <td>1</td>\n",
              "    </tr>\n",
              "    <tr>\n",
              "      <th>1</th>\n",
              "      <td>2</td>\n",
              "      <td>11</td>\n",
              "      <td>2</td>\n",
              "      <td>13</td>\n",
              "      <td>2</td>\n",
              "      <td>10</td>\n",
              "      <td>2</td>\n",
              "      <td>12</td>\n",
              "      <td>2</td>\n",
              "      <td>1</td>\n",
              "    </tr>\n",
              "    <tr>\n",
              "      <th>2</th>\n",
              "      <td>3</td>\n",
              "      <td>12</td>\n",
              "      <td>3</td>\n",
              "      <td>11</td>\n",
              "      <td>3</td>\n",
              "      <td>13</td>\n",
              "      <td>3</td>\n",
              "      <td>10</td>\n",
              "      <td>3</td>\n",
              "      <td>1</td>\n",
              "    </tr>\n",
              "    <tr>\n",
              "      <th>3</th>\n",
              "      <td>4</td>\n",
              "      <td>10</td>\n",
              "      <td>4</td>\n",
              "      <td>11</td>\n",
              "      <td>4</td>\n",
              "      <td>1</td>\n",
              "      <td>4</td>\n",
              "      <td>13</td>\n",
              "      <td>4</td>\n",
              "      <td>12</td>\n",
              "    </tr>\n",
              "    <tr>\n",
              "      <th>4</th>\n",
              "      <td>4</td>\n",
              "      <td>1</td>\n",
              "      <td>4</td>\n",
              "      <td>13</td>\n",
              "      <td>4</td>\n",
              "      <td>12</td>\n",
              "      <td>4</td>\n",
              "      <td>11</td>\n",
              "      <td>4</td>\n",
              "      <td>10</td>\n",
              "    </tr>\n",
              "  </tbody>\n",
              "</table>\n",
              "</div>"
            ],
            "text/plain": [
              "   S1  C1  S2  C2  S3  C3  S4  C4  S5  C5\n",
              "0   1  10   1  11   1  13   1  12   1   1\n",
              "1   2  11   2  13   2  10   2  12   2   1\n",
              "2   3  12   3  11   3  13   3  10   3   1\n",
              "3   4  10   4  11   4   1   4  13   4  12\n",
              "4   4   1   4  13   4  12   4  11   4  10"
            ]
          },
          "metadata": {
            "tags": []
          },
          "execution_count": 65
        }
      ]
    },
    {
      "cell_type": "code",
      "metadata": {
        "id": "rAxLrpwM9PVB",
        "outputId": "83d6fbcc-9a02-4c1a-c6a5-1c4afb9b4d59",
        "colab": {
          "base_uri": "https://localhost:8080/",
          "height": 204
        }
      },
      "source": [
        "trainY.head()"
      ],
      "execution_count": null,
      "outputs": [
        {
          "output_type": "execute_result",
          "data": {
            "text/html": [
              "<div>\n",
              "<style scoped>\n",
              "    .dataframe tbody tr th:only-of-type {\n",
              "        vertical-align: middle;\n",
              "    }\n",
              "\n",
              "    .dataframe tbody tr th {\n",
              "        vertical-align: top;\n",
              "    }\n",
              "\n",
              "    .dataframe thead th {\n",
              "        text-align: right;\n",
              "    }\n",
              "</style>\n",
              "<table border=\"1\" class=\"dataframe\">\n",
              "  <thead>\n",
              "    <tr style=\"text-align: right;\">\n",
              "      <th></th>\n",
              "      <th>0</th>\n",
              "      <th>1</th>\n",
              "      <th>2</th>\n",
              "      <th>3</th>\n",
              "      <th>4</th>\n",
              "      <th>5</th>\n",
              "      <th>6</th>\n",
              "      <th>7</th>\n",
              "      <th>8</th>\n",
              "      <th>9</th>\n",
              "    </tr>\n",
              "  </thead>\n",
              "  <tbody>\n",
              "    <tr>\n",
              "      <th>0</th>\n",
              "      <td>0</td>\n",
              "      <td>0</td>\n",
              "      <td>0</td>\n",
              "      <td>0</td>\n",
              "      <td>0</td>\n",
              "      <td>0</td>\n",
              "      <td>0</td>\n",
              "      <td>0</td>\n",
              "      <td>0</td>\n",
              "      <td>1</td>\n",
              "    </tr>\n",
              "    <tr>\n",
              "      <th>1</th>\n",
              "      <td>0</td>\n",
              "      <td>0</td>\n",
              "      <td>0</td>\n",
              "      <td>0</td>\n",
              "      <td>0</td>\n",
              "      <td>0</td>\n",
              "      <td>0</td>\n",
              "      <td>0</td>\n",
              "      <td>0</td>\n",
              "      <td>1</td>\n",
              "    </tr>\n",
              "    <tr>\n",
              "      <th>2</th>\n",
              "      <td>0</td>\n",
              "      <td>0</td>\n",
              "      <td>0</td>\n",
              "      <td>0</td>\n",
              "      <td>0</td>\n",
              "      <td>0</td>\n",
              "      <td>0</td>\n",
              "      <td>0</td>\n",
              "      <td>0</td>\n",
              "      <td>1</td>\n",
              "    </tr>\n",
              "    <tr>\n",
              "      <th>3</th>\n",
              "      <td>0</td>\n",
              "      <td>0</td>\n",
              "      <td>0</td>\n",
              "      <td>0</td>\n",
              "      <td>0</td>\n",
              "      <td>0</td>\n",
              "      <td>0</td>\n",
              "      <td>0</td>\n",
              "      <td>0</td>\n",
              "      <td>1</td>\n",
              "    </tr>\n",
              "    <tr>\n",
              "      <th>4</th>\n",
              "      <td>0</td>\n",
              "      <td>0</td>\n",
              "      <td>0</td>\n",
              "      <td>0</td>\n",
              "      <td>0</td>\n",
              "      <td>0</td>\n",
              "      <td>0</td>\n",
              "      <td>0</td>\n",
              "      <td>0</td>\n",
              "      <td>1</td>\n",
              "    </tr>\n",
              "  </tbody>\n",
              "</table>\n",
              "</div>"
            ],
            "text/plain": [
              "   0  1  2  3  4  5  6  7  8  9\n",
              "0  0  0  0  0  0  0  0  0  0  1\n",
              "1  0  0  0  0  0  0  0  0  0  1\n",
              "2  0  0  0  0  0  0  0  0  0  1\n",
              "3  0  0  0  0  0  0  0  0  0  1\n",
              "4  0  0  0  0  0  0  0  0  0  1"
            ]
          },
          "metadata": {
            "tags": []
          },
          "execution_count": 66
        }
      ]
    },
    {
      "cell_type": "markdown",
      "metadata": {
        "id": "zcyRHLsvtGeT"
      },
      "source": [
        "**2. CREATING MODEL**\n",
        "\n",
        "We will create a simple neural network model with Keras. A neural network is inspired by a biological neural network but here the connections between neurons are modeled by weights. Neural networks are organized into layers of nodes. An individual node might be connected to several nodes in the layer beneath it, from which it receives data, and several nodes in the layer above it, to which it sends data.\n",
        "\n",
        "**2.1 A Simple Neural Network Model:**\n",
        "\n",
        "We will create a simple neural network with two hidden layers using and neurons. First we create a sequential model which means that the output of each layer is added as input to the next layer. Layers can be added by using model.add() method. Adding layers are like stacking lego blocks one by one. We have used dense layer which represents a fully connected layer. We need to mention input dimension in the input layer, numebr of neurons in hidden layer, output dimension in the output layer. Our simple neural netowork consists of 10 neurons in the input layer, 15 neurons in 1st and 2nd hidden layer and 10 neurons in the output layer, one for each poker hand. The illustration is shown below:\n",
        "\n",
        "Besides, we need to specify the activation function which is relu (rectified linear unit). The output layer has different activation function called softmax since this is a multiclass classification. \n",
        "Later we will show a complex neural network with more layers and neurons and how that impact the accuracy of the model.\n"
      ]
    },
    {
      "cell_type": "code",
      "metadata": {
        "id": "jBLF8G1ftLvD"
      },
      "source": [
        "import keras\n",
        "from tensorflow.python.keras import Sequential\n",
        "from tensorflow.python.keras.layers import Dense\n",
        "\n",
        "#Model 1 with one hidden layer, 15 neurons in the hidden layer\n",
        "poker_model1 = Sequential()\n",
        "poker_model1.add(Dense(15,input_shape=(10,), activation='relu')) #input layer\n",
        "poker_model1.add(Dense(15, activation='relu')) #hidden layer\n",
        "poker_model1.add(Dense(10, activation='softmax')) #output layer"
      ],
      "execution_count": null,
      "outputs": []
    },
    {
      "cell_type": "markdown",
      "metadata": {
        "id": "kvhVg37UtMDz"
      },
      "source": [
        "**3. COMPILING MODEL**\n",
        "\n",
        "Now we will compile our model by using model.compile() method of keras. We have to specifiy the loss function, optimizer and metrics to be used. We use Categorical_crossentropy loss since we have multiple classes (10 poker hand classes). \n",
        "\n",
        "The optimizer that we have used is adam. Optimizers are methods used to change the attributes of neural network such as weights and learning rate in order to reduce the loss. Adam is an adaptive learning rate method. \n",
        "\n",
        "Finally, we have used accuracy as metric to judge the performance of our model. model.summary() method shows the summary of the whole model including the shape of all layers. \n",
        "\n",
        "References: Diederik P. Kingma and Jimmy Lei Ba. Adam : A method for stochastic optimization. 2014. arXiv:1412.6980v9\n"
      ]
    },
    {
      "cell_type": "code",
      "metadata": {
        "id": "uIsZ70jwtQT1",
        "outputId": "a9538492-dd60-46f5-898f-e1ab24516a14",
        "colab": {
          "base_uri": "https://localhost:8080/",
          "height": 255
        }
      },
      "source": [
        "#Compile model\n",
        "poker_model1.compile(optimizer = 'adam', loss = 'categorical_crossentropy', metrics = ['accuracy']) \n",
        "#Show model summary \n",
        "poker_model1.summary()"
      ],
      "execution_count": null,
      "outputs": [
        {
          "output_type": "stream",
          "text": [
            "Model: \"sequential_25\"\n",
            "_________________________________________________________________\n",
            "Layer (type)                 Output Shape              Param #   \n",
            "=================================================================\n",
            "dense_83 (Dense)             (None, 15)                165       \n",
            "_________________________________________________________________\n",
            "dense_84 (Dense)             (None, 15)                240       \n",
            "_________________________________________________________________\n",
            "dense_85 (Dense)             (None, 10)                160       \n",
            "=================================================================\n",
            "Total params: 565\n",
            "Trainable params: 565\n",
            "Non-trainable params: 0\n",
            "_________________________________________________________________\n"
          ],
          "name": "stdout"
        }
      ]
    },
    {
      "cell_type": "markdown",
      "metadata": {
        "id": "hTGFd8lZtQgs"
      },
      "source": [
        "**4. FITTING MODEL**\n",
        "\n",
        "model.fit() method is used to train the model with data input and label output. We can further mention number of epochs, bacth_size() as arguments to the fit method. Epochs means how many iterations we want to train the model. If the dataset is big, we can divide it by batches where each batch size equal to batch_size and train the model batch by batch. If Shuffle is argument is set to True, if shuffles the dataset before creating each batch. Verbose represents if want to see the status of each epoch or not. If verbose is et to 0, nothing will be shown, if verbose=1 or 2, each epoch's loss and accuracy will be shown. \n",
        "\n",
        "Model performance depends on diffferent parameters and hypermaters that we will see in section 6. "
      ]
    },
    {
      "cell_type": "code",
      "metadata": {
        "id": "bph_i2hMtV0C"
      },
      "source": [
        "#Fit model and save hostory in h1\n",
        "h1=poker_model1.fit(trainX, trainY, epochs = 50, batch_size = 100, verbose=0,shuffle=True)"
      ],
      "execution_count": null,
      "outputs": []
    },
    {
      "cell_type": "markdown",
      "metadata": {
        "id": "A1VH13iptWK0"
      },
      "source": [
        "**5. EVALUATING MODEL**\n",
        "\n",
        "We can get testing or training accuracy by model.evaluate() method. This method takes data input and output as arguments. If we use any batch_size, we have to mention that here too. The evaluate method returns loss and accruacy of the model. Loss specifies how poorly or well a model behaves after each iteration of optimization. An accuracy metric measures the model's performance. Here, we see that our model achieves about 58.7% accuracy. The loss is about 90%"
      ]
    },
    {
      "cell_type": "code",
      "metadata": {
        "id": "ypPuqgkMulHN",
        "outputId": "d4b2a316-26e3-459a-fa28-246e9de0d56f",
        "colab": {
          "base_uri": "https://localhost:8080/",
          "height": 105
        }
      },
      "source": [
        "#Calculate loss and accuracy of model 1\n",
        "loss1,accuracy1= poker_model1.evaluate(testX,testY,batch_size=100)\n",
        "print()\n",
        "print(\"Model 1: one hidden layer, adam optimizer, 100 batch size and 50 epochs\")\n",
        "print(\"Testing loss=%f accuracy=%f with \" % (loss1,accuracy1))"
      ],
      "execution_count": null,
      "outputs": [
        {
          "output_type": "stream",
          "text": [
            "10000/10000 [==============================] - 17s 2ms/step - loss: 0.9168 - accuracy: 0.5763\n",
            "\n",
            "Model 1: one hidden layer, adam optimizer, 100 batch size and 50 epochs\n",
            "Testing loss=0.916785 accuracy=0.576310 with \n"
          ],
          "name": "stdout"
        }
      ]
    },
    {
      "cell_type": "markdown",
      "metadata": {
        "id": "kyLfLcL9tuK1"
      },
      "source": [
        "**6. TUNING MODEL**\n",
        "\n",
        "Model can be tuned in multiple ways. Here we, will show how different parameters affect a neural model's performance. We will tune our model by changing the following parameters:\n",
        "* Number of hidden layers and neurons\n",
        "* Batch size\n",
        "* Number of epochs\n",
        "* Optimizer\n",
        "\n",
        "We will compare each model's accuracy with the base model that we created earlier in section 2. \n"
      ]
    },
    {
      "cell_type": "markdown",
      "metadata": {
        "id": "pj4mRudyYH_6"
      },
      "source": [
        "**6.1 Changing No. of Hidden Layers:**\n",
        "\n",
        "We will create a new model with two more hidden layers. This time we will use more neurons in the hidden layers. We call this model as model2 which is sequential as before, input layer has 10 neurons, output layers has 10 neurons for each poker hand class, each hdiden layer has 50 neurons. The activaton functions are same as our first model. The batch size, optimizer and epochs are same. We want to compare with respect to number of hidden layers and neurons only. \n",
        "\n",
        "We see that the model's accuracy change drastically. Our base model with one hidden layer consisting of 15 neurons has about 57% accuracy where the second model with two hidden layers each consisting of 50 neurons has about 74% accuracy. "
      ]
    },
    {
      "cell_type": "code",
      "metadata": {
        "id": "9wG2ogzOCUds",
        "outputId": "eb1b524b-3e88-43d2-cc9e-04059e28252a",
        "colab": {
          "base_uri": "https://localhost:8080/",
          "height": 105
        }
      },
      "source": [
        "#Model 2\n",
        "poker_model2 = Sequential()\n",
        "poker_model2.add(Dense(50,input_shape=(10,), activation='relu')) #input layer\n",
        "poker_model2.add(Dense(50, activation='relu')) #1st hidden layer\n",
        "poker_model2.add(Dense(50, activation='relu')) #2nd hidden layer\n",
        "poker_model2.add(Dense(10, activation='softmax')) #output layer\n",
        "poker_model2.compile(optimizer = 'adam', loss = 'categorical_crossentropy', metrics = ['accuracy']) \n",
        "#Save model history in h2 \n",
        "h2=poker_model2.fit(trainX, trainY, epochs = 50, batch_size = 100, verbose=0,shuffle=True)\n",
        "#Evaluate model\n",
        "loss2,accuracy2 = poker_model2.evaluate(testX,testY,batch_size=100) \n",
        "print()\n",
        "print(\"Model 2: two hidden layers, adam optimizer, 100 batch size and 50 epochs\")\n",
        "print(\"Testing loss=%f accuracy=%f with \" % (loss2,accuracy2))"
      ],
      "execution_count": null,
      "outputs": [
        {
          "output_type": "stream",
          "text": [
            "10000/10000 [==============================] - 18s 2ms/step - loss: 0.6402 - accuracy: 0.7396\n",
            "\n",
            "Model 2: two hidden layers, adam optimizer, 100 batch size and 50 epochs\n",
            "Testing loss=0.640213 accuracy=0.739647 with \n"
          ],
          "name": "stdout"
        }
      ]
    },
    {
      "cell_type": "markdown",
      "metadata": {
        "id": "xarkdw-ha4iW"
      },
      "source": [
        "**6.2 Changing Batch size:**\n",
        "\n",
        "Depending on the model and dataset, different parameters can have diffrent impact. Now we will see how batch size affects model's performance. Remember that our base model (model 1) has accuracy 57% with batch size 100. Here we use same hidden layers and parameters as base model except batch size which is 50 now. So, we divide our dataset into smaller batches than previous one. \n",
        "\n",
        "We see that the model's accuracy improve from % to % and the loss is changed to . "
      ]
    },
    {
      "cell_type": "code",
      "metadata": {
        "id": "QFCU0z4l_nWR",
        "outputId": "0a07786b-82fc-4cb4-ceea-a5b1b157ba30",
        "colab": {
          "base_uri": "https://localhost:8080/",
          "height": 105
        }
      },
      "source": [
        "#Model 3\n",
        "poker_model3 = Sequential()\n",
        "poker_model3.add(Dense(15,input_shape=(10,), activation='relu')) #input layer\n",
        "poker_model3.add(Dense(15, activation='relu')) #1st hidden layer\n",
        "poker_model3.add(Dense(10, activation='softmax')) #output layer\n",
        "poker_model3.compile(optimizer = 'adam', loss = 'categorical_crossentropy', metrics = ['accuracy'])  \n",
        "h3=poker_model3.fit(trainX, trainY, epochs = 50, batch_size = 50, verbose=0,shuffle=True)\n",
        "loss3,accuracy3 = poker_model3.evaluate(testX,testY,batch_size=50) \n",
        "\n",
        "print()\n",
        "print(\"Model 3: one hidden layer, adam optimizer, 50 batch size and 50 epochs\")\n",
        "print(\"Testing loss=%f accuracy=%f with \" % (loss3,accuracy3))"
      ],
      "execution_count": null,
      "outputs": [
        {
          "output_type": "stream",
          "text": [
            "20000/20000 [==============================] - 35s 2ms/step - loss: 0.8798 - accuracy: 0.6036\n",
            "\n",
            "Model 3: one hidden layer, adam optimizer, 50 batch size and 50 epochs\n",
            "Testing loss=0.879772 accuracy=0.603581 with \n"
          ],
          "name": "stdout"
        }
      ]
    },
    {
      "cell_type": "markdown",
      "metadata": {
        "id": "bxy445xtAw8Z"
      },
      "source": [
        "**6.3 Changing Epochs:**\n",
        "\n",
        "We create our 4th model where number of epochs is 500 and all the other parameters are same as our first model. \n",
        "\n",
        "We see that the model's accuracy improve to 75% from 57%. "
      ]
    },
    {
      "cell_type": "code",
      "metadata": {
        "id": "ilWQJUwRA4gY",
        "outputId": "15523303-50c0-4112-b4db-d4a34c58f18c",
        "colab": {
          "base_uri": "https://localhost:8080/",
          "height": 105
        }
      },
      "source": [
        "#Model 4\n",
        "poker_model4 = Sequential()\n",
        "poker_model4.add(Dense(15,input_shape=(10,), activation='relu')) #input layer\n",
        "poker_model4.add(Dense(15, activation='relu')) #1st hidden layer\n",
        "poker_model4.add(Dense(10, activation='softmax')) #output layer\n",
        "poker_model4.compile(optimizer = 'adam', loss = 'categorical_crossentropy', metrics = ['accuracy'])  \n",
        "h4=poker_model4.fit(trainX, trainY, epochs = 500, batch_size = 100, verbose=0,shuffle=True)\n",
        "loss4,accuracy4 = poker_model4.evaluate(testX,testY,batch_size=100) \n",
        "\n",
        "print()\n",
        "print(\"Model 4: one hidden layer, adam optimizer, 50 batch size and 500 epochs\")\n",
        "print(\"Testing loss=%f accuracy=%f with \" % (loss4,accuracy4))"
      ],
      "execution_count": null,
      "outputs": [
        {
          "output_type": "stream",
          "text": [
            "10000/10000 [==============================] - 18s 2ms/step - loss: 0.7136 - accuracy: 0.7023\n",
            "\n",
            "Model 4: one hidden layer, adam optimizer, 50 batch size and 500 epochs\n",
            "Testing loss=0.713568 accuracy=0.702335 with \n"
          ],
          "name": "stdout"
        }
      ]
    },
    {
      "cell_type": "markdown",
      "metadata": {
        "id": "NJjiglJgdYVq"
      },
      "source": [
        "**6.4 Changing Optimizer:**\n",
        "\n",
        "We will use a different optimizer in our 5th model which SGD( Stochastic Gradient Descent) optimizer. Gradient descent method can update each parameter of a model, observe how a change would affect the objective function, choose a direction that would lower the error rate, and continue iterating until the objective function converges to the minimum. SGD is a variant of gradient descent. SGD computes on a small batch of data instead on cosidering the whole dataset. \n",
        "\n",
        "We see that the model's accuracy improve to 75% from 57%. \n",
        "\n",
        "Reference: https://medium.com/syncedreview/iclr-2019-fast-as-adam-good-as-sgd-new-optimizer-has-both-78e37e8f9a34"
      ]
    },
    {
      "cell_type": "code",
      "metadata": {
        "id": "twR0-Onwe7tS",
        "outputId": "6a669ac1-2d86-44af-89ec-91b9162048c3",
        "colab": {
          "base_uri": "https://localhost:8080/",
          "height": 85
        }
      },
      "source": [
        "from tensorflow.python.keras.optimizers import SGD\n",
        "\n",
        "#Model 5\n",
        "poker_model5 = Sequential()\n",
        "poker_model5.add(Dense(15,input_shape=(10,), activation='relu')) #input layer\n",
        "poker_model5.add(Dense(15, activation='relu')) #1st hidden layer\n",
        "poker_model5.add(Dense(10, activation='softmax')) #output layer\n",
        "poker_model5.compile(optimizer = 'SGD', loss = 'categorical_crossentropy', metrics = ['accuracy'])  \n",
        "h5=poker_model5.fit(trainX, trainY, epochs = 50, batch_size = 100, verbose=0,shuffle=True)\n",
        "loss5,accuracy5 = poker_model5.evaluate(testX,testY,batch_size=100) \n",
        "\n",
        "print()\n",
        "print(\"Model 5: one hidden layer, SGD optimizer, 100 batch size and 50 epochs\")\n",
        "print(\"Testing loss=%f accuracy=%f with \" % (loss5,accuracy5))"
      ],
      "execution_count": null,
      "outputs": [
        {
          "output_type": "stream",
          "text": [
            "10000/10000 [==============================] - 19s 2ms/step - loss: 0.9747 - accuracy: 0.5239\n",
            "\n",
            "Model 5: one hidden layer, SGD optimizer, 100 batch size and 50 epochs\n",
            "Testing loss=0.974669 accuracy=0.523946 with \n"
          ],
          "name": "stdout"
        }
      ]
    }
  ]
}